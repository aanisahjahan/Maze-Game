{
 "cells": [
  {
   "cell_type": "markdown",
   "id": "ab1b27b9",
   "metadata": {},
   "source": [
    "# Initialise Pygame"
   ]
  },
  {
   "cell_type": "code",
   "execution_count": null,
   "id": "e311e6c7",
   "metadata": {},
   "outputs": [],
   "source": [
    "import pygame\n",
    "\n",
    "pygame.init()"
   ]
  },
  {
   "cell_type": "markdown",
   "id": "717fca77",
   "metadata": {},
   "source": [
    "# Display Set Up"
   ]
  },
  {
   "cell_type": "code",
   "execution_count": null,
   "id": "68c477ee",
   "metadata": {},
   "outputs": [],
   "source": [
    "screen_width = 900\n",
    "screen_height = 600\n",
    "screen = pygame.display.set_mode((screen_width, screen_height))\n",
    "pygame.display.set_caption('Maze Game')\n",
    "\n",
    "# Define colors\n",
    "WHITE = (255, 255, 255)\n",
    "FONT_COLOR = (0, 0, 0)  # Black color for the font\n",
    "\n",
    "# Initialize font\n",
    "pygame.font.init()\n",
    "font = pygame.font.Font(None, 36)"
   ]
  },
  {
   "cell_type": "markdown",
   "id": "a1576505",
   "metadata": {},
   "source": [
    "# Load and Scale Images"
   ]
  },
  {
   "cell_type": "code",
   "execution_count": null,
   "id": "ee901937",
   "metadata": {},
   "outputs": [],
   "source": [
    "def load_image(image_file):\n",
    "    return pygame.transform.scale(pygame.image.load(image_file), (50, 50))\n",
    "\n",
    "images = {\n",
    "    'X': load_image('X.png'),\n",
    "    '_': load_image('_.png'),\n",
    "    'M': load_image('M.png'),\n",
    "    'B': load_image('B.png'),\n",
    "    'E': load_image('E.png'),\n",
    "    'L': load_image('L.png'),\n",
    "    'J': load_image('J.png'),\n",
    "    'avatar': load_image('H.png'),\n",
    "}"
   ]
  },
  {
   "cell_type": "markdown",
   "id": "77792bed",
   "metadata": {},
   "source": [
    "# Game Set Up"
   ]
  },
  {
   "cell_type": "markdown",
   "id": "439779da",
   "metadata": {},
   "source": [
    "### Background"
   ]
  },
  {
   "cell_type": "code",
   "execution_count": null,
   "id": "efbed9aa",
   "metadata": {},
   "outputs": [],
   "source": [
    "background = [\n",
    "    ['X', 'X', 'X', 'X', 'X', 'X', 'X', 'X', 'X', 'X', 'X', 'X', 'X', 'X', 'X', 'X', 'X', 'X'],\n",
    "    ['X', 'avatar', '_', 'L', '_', '_', 'M', '_', '_', 'E', '_', '_', 'J', '_', '_', '_', '_', 'X'],\n",
    "    ['X', '_', '_', '_', 'M', '_', 'B', '_', 'L', '_', '_', '_', '_', 'B', '_', 'J', '_', 'X'],\n",
    "    ['X', '_', '_', 'B', '_', '_', '_', '_', '_', 'J', '_', '_', 'E', '_', 'L', '_', '_', 'X'],\n",
    "    ['X', 'X', 'X', 'X', 'X', 'X', 'X', 'X', 'X', 'X', 'X', 'X', 'X', 'X', 'X', 'X', 'X', 'X']\n",
    "]"
   ]
  },
  {
   "cell_type": "markdown",
   "id": "a3544600",
   "metadata": {},
   "source": [
    "### Avatar Position"
   ]
  },
  {
   "cell_type": "code",
   "execution_count": null,
   "id": "0a8b1a6a",
   "metadata": {},
   "outputs": [],
   "source": [
    "avatar_pos = [1, 1]  # Assuming the second row, first column"
   ]
  },
  {
   "cell_type": "markdown",
   "id": "7bc23b05",
   "metadata": {},
   "source": [
    "### Game Board "
   ]
  },
  {
   "cell_type": "code",
   "execution_count": null,
   "id": "a38c5dcf",
   "metadata": {},
   "outputs": [],
   "source": [
    "# Draw the game board\n",
    "def draw_board():\n",
    "    for row_idx, row in enumerate(background):\n",
    "        for col_idx, cell in enumerate(row):\n",
    "            image = images.get(cell, images['_'])\n",
    "            screen.blit(image, (col_idx * 50, row_idx * 50 + 100))  \n",
    "\n",
    "# Display welcome messages\n",
    "def display_message(message):\n",
    "    text_surface = font.render(message, True, FONT_COLOR)\n",
    "    screen.blit(text_surface, (50, 10))  # Display message at position (50, 10)\n",
    "    pygame.display.update()  "
   ]
  },
  {
   "cell_type": "markdown",
   "id": "16f37a56",
   "metadata": {},
   "source": [
    "# Avatar Movement"
   ]
  },
  {
   "cell_type": "code",
   "execution_count": null,
   "id": "1c5b29b3",
   "metadata": {},
   "outputs": [],
   "source": [
    "# Function to move the avatar\n",
    "points = 0 \n",
    "show_message = False\n",
    "message = \"\"\n",
    "message_time = 0\n",
    "\n",
    "def move_avatar(dx, dy):\n",
    "    global avatar_pos, points, show_message, message, message_time\n",
    "    new_x = avatar_pos[1] + dx\n",
    "    new_y = avatar_pos[0] + dy\n",
    "\n",
    "    if 0 <= new_x < len(background[0]) and 0 <= new_y < len(background):  # Stay within bounds\n",
    "        next_cell = background[new_y][new_x]\n",
    "        if next_cell not in ['X', 'M']:  # Check for walls and monsters\n",
    "            if next_cell in ['B', 'E', 'L', 'J']:  # Airplane logo\n",
    "                points += 1  # Increase points\n",
    "                if next_cell == 'E':\n",
    "                    message = 'Welcome on board with EasyJet! Points: {}'.format(points)\n",
    "                elif next_cell == 'J':\n",
    "                    message = 'Welcome on board with Jet2! Points: {}'.format(points)\n",
    "                elif next_cell == 'L':\n",
    "                    message = 'Welcome on board with Lufthansa! Points: {}'.format(points)\n",
    "                show_message = True\n",
    "                message_time = pygame.time.get_ticks()  # Get current time\n",
    "\n",
    "            # Move the avatar\n",
    "            background[avatar_pos[0]][avatar_pos[1]] = '_'\n",
    "            avatar_pos = [new_y, new_x]\n",
    "            background[new_y][new_x] = 'avatar'"
   ]
  },
  {
   "cell_type": "markdown",
   "id": "f11dc305",
   "metadata": {},
   "source": [
    "# Game Loop"
   ]
  },
  {
   "cell_type": "code",
   "execution_count": null,
   "id": "a20e3a68",
   "metadata": {},
   "outputs": [],
   "source": [
    "running = True\n",
    "while running:\n",
    "    # Events\n",
    "    for event in pygame.event.get():\n",
    "        if event.type == pygame.QUIT:\n",
    "            running = False\n",
    "        elif event.type == pygame.KEYDOWN:\n",
    "            if event.key == pygame.K_a:\n",
    "                move_avatar(-1, 0)\n",
    "            elif event.key == pygame.K_d:\n",
    "                move_avatar(1, 0)\n",
    "            elif event.key == pygame.K_w:\n",
    "                move_avatar(0, -1)\n",
    "            elif event.key == pygame.K_s:\n",
    "                move_avatar(0, 1)\n",
    "            elif event.key == pygame.K_q:\n",
    "                print('Game over!!!')\n",
    "                running = False\n",
    "\n",
    "    # Draw the game\n",
    "    screen.fill(WHITE)  \n",
    "    draw_board()  \n",
    "    \n",
    "    # Display the message if needed\n",
    "    if show_message:\n",
    "        if pygame.time.get_ticks() - message_time < 2000:  # Show message for 2 seconds\n",
    "            display_message(message)\n",
    "        else:\n",
    "            show_message = False  # Reset the show_message flag after 2 seconds\n",
    "    else:\n",
    "        # If the message is not being shown, update the full display\n",
    "        pygame.display.flip() \n",
    "\n",
    "pygame.quit()"
   ]
  }
 ],
 "metadata": {
  "kernelspec": {
   "display_name": "Python 3 (ipykernel)",
   "language": "python",
   "name": "python3"
  },
  "language_info": {
   "codemirror_mode": {
    "name": "ipython",
    "version": 3
   },
   "file_extension": ".py",
   "mimetype": "text/x-python",
   "name": "python",
   "nbconvert_exporter": "python",
   "pygments_lexer": "ipython3",
   "version": "3.11.5"
  }
 },
 "nbformat": 4,
 "nbformat_minor": 5
}
